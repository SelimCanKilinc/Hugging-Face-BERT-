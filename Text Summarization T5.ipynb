{
 "cells": [
  {
   "cell_type": "code",
   "execution_count": 1,
   "metadata": {},
   "outputs": [
    {
     "name": "stderr",
     "output_type": "stream",
     "text": [
      "c:\\Users\\Pc\\anaconda3\\Lib\\site-packages\\pandas\\core\\arrays\\masked.py:60: UserWarning: Pandas requires version '1.3.6' or newer of 'bottleneck' (version '1.3.5' currently installed).\n",
      "  from pandas.core import (\n"
     ]
    }
   ],
   "source": [
    "import pandas as pd\n",
    "import numpy as np\n",
    "from transformers import pipeline\n",
    "import torch\n",
    "\n",
    "import warnings\n",
    "warnings.filterwarnings('ignore')"
   ]
  },
  {
   "cell_type": "code",
   "execution_count": 22,
   "metadata": {},
   "outputs": [],
   "source": [
    "from datasets import load_dataset\n",
    "\n",
    "samsum = load_dataset(\"Samsung/samsum\")"
   ]
  },
  {
   "cell_type": "code",
   "execution_count": 32,
   "metadata": {},
   "outputs": [],
   "source": [
    "dialogue_len = [len(x['dialogue'].split()) for x in samsum['train']]\n",
    "summary_len = [len(x['summary'].split()) for x in samsum['train']]"
   ]
  },
  {
   "cell_type": "code",
   "execution_count": 33,
   "metadata": {},
   "outputs": [
    {
     "data": {
      "text/plain": [
       "array([[<Axes: title={'center': 'Dialogue Length'}>,\n",
       "        <Axes: title={'center': 'Summary Length'}>]], dtype=object)"
      ]
     },
     "execution_count": 33,
     "metadata": {},
     "output_type": "execute_result"
    },
    {
     "data": {
      "image/png": "[encoded data removed]",
      "text/plain": [
       "<Figure size 1000x300 with 2 Axes>"
      ]
     },
     "metadata": {},
     "output_type": "display_data"
    }
   ],
   "source": [
    "data = pd.DataFrame([dialogue_len, summary_len]).T\n",
    "data.columns = ['Dialogue Length', 'Summary Length']\n",
    "\n",
    "data.hist(figsize=(10,3))           # max_length = 200 olarak alıyoruz daha hızlı yapalım diye"
   ]
  },
  {
   "cell_type": "code",
   "execution_count": 34,
   "metadata": {},
   "outputs": [
    {
     "data": {
      "application/vnd.jupyter.widget-view+json": {
       "model_id": "4dadc38465bc46c4baf293447d9f5563",
       "version_major": 2,
       "version_minor": 0
      },
      "text/plain": [
       "tokenizer_config.json:   0%|          | 0.00/2.32k [00:00<?, ?B/s]"
      ]
     },
     "metadata": {},
     "output_type": "display_data"
    },
    {
     "data": {
      "application/vnd.jupyter.widget-view+json": {
       "model_id": "0f61ae84638f4712840b606915e22233",
       "version_major": 2,
       "version_minor": 0
      },
      "text/plain": [
       "spiece.model:   0%|          | 0.00/792k [00:00<?, ?B/s]"
      ]
     },
     "metadata": {},
     "output_type": "display_data"
    },
    {
     "data": {
      "application/vnd.jupyter.widget-view+json": {
       "model_id": "7d94fe895c3a4ddfb220e51c96ee0cb1",
       "version_major": 2,
       "version_minor": 0
      },
      "text/plain": [
       "tokenizer.json:   0%|          | 0.00/1.39M [00:00<?, ?B/s]"
      ]
     },
     "metadata": {},
     "output_type": "display_data"
    },
    {
     "data": {
      "application/vnd.jupyter.widget-view+json": {
       "model_id": "2e3714b06c014b4092c0171a03abe938",
       "version_major": 2,
       "version_minor": 0
      },
      "text/plain": [
       "config.json:   0%|          | 0.00/1.21k [00:00<?, ?B/s]"
      ]
     },
     "metadata": {},
     "output_type": "display_data"
    },
    {
     "data": {
      "application/vnd.jupyter.widget-view+json": {
       "model_id": "a22f961047214584b0439dee8545c2d4",
       "version_major": 2,
       "version_minor": 0
      },
      "text/plain": [
       "model.safetensors:   0%|          | 0.00/242M [00:00<?, ?B/s]"
      ]
     },
     "metadata": {},
     "output_type": "display_data"
    },
    {
     "data": {
      "application/vnd.jupyter.widget-view+json": {
       "model_id": "4e66e48011624be492b31f057245e5b7",
       "version_major": 2,
       "version_minor": 0
      },
      "text/plain": [
       "generation_config.json:   0%|          | 0.00/147 [00:00<?, ?B/s]"
      ]
     },
     "metadata": {},
     "output_type": "display_data"
    }
   ],
   "source": [
    "from transformers import AutoTokenizer, AutoModelForSeq2SeqLM\n",
    "\n",
    "model_ckpt = 't5-small'\n",
    "tokenizer = AutoTokenizer.from_pretrained(model_ckpt)\n",
    "model = AutoModelForSeq2SeqLM.from_pretrained(model_ckpt).to(device)"
   ]
  },
  {
   "cell_type": "markdown",
   "metadata": {},
   "source": [
    "- AutoModelForSeq2SeqLM: Seq2Seq (Encoder-Decoder) yapılarında kullanılır. Bu, T5 veya BART gibi modeller için uygundur (özellikle özetleme, çeviri gibi görevler için)."
   ]
  },
  {
   "cell_type": "code",
   "execution_count": 35,
   "metadata": {},
   "outputs": [
    {
     "data": {
      "text/plain": [
       "{'input_ids': tensor([[21542,    10,    27, 13635,  5081,     5,   531,    25,   241,   128,\n",
       "            58, 16637,    10, 10625,    55, 21542,    10,    27,    31,   195,\n",
       "           830,    25,  5721,     3,    10,    18,    61,     1]]), 'attention_mask': tensor([[1, 1, 1, 1, 1, 1, 1, 1, 1, 1, 1, 1, 1, 1, 1, 1, 1, 1, 1, 1, 1, 1, 1, 1,\n",
       "         1, 1, 1, 1]]), 'labels': tensor([[21542, 13635,  5081,    11,    56,   830, 16637,   128,  5721,     5,\n",
       "             1]])}"
      ]
     },
     "execution_count": 35,
     "metadata": {},
     "output_type": "execute_result"
    }
   ],
   "source": [
    "tokenizer(samsum['train'][0]['dialogue'], text_target=samsum['train'][0]['summary'], return_tensors='pt')"
   ]
  },
  {
   "cell_type": "code",
   "execution_count": 36,
   "metadata": {},
   "outputs": [],
   "source": [
    "def tokenize(batch):\n",
    "    encoding = tokenizer(batch['dialogue'], text_target=batch['summary'], max_length=200, truncation=True, padding=True, return_tensors='pt')\n",
    "\n",
    "    return encoding"
   ]
  },
  {
   "cell_type": "code",
   "execution_count": 37,
   "metadata": {},
   "outputs": [
    {
     "data": {
      "application/vnd.jupyter.widget-view+json": {
       "model_id": "a6da7a879d04494c9ef355d8a4f4c7f7",
       "version_major": 2,
       "version_minor": 0
      },
      "text/plain": [
       "Map:   0%|          | 0/14732 [00:00<?, ? examples/s]"
      ]
     },
     "metadata": {},
     "output_type": "display_data"
    },
    {
     "data": {
      "application/vnd.jupyter.widget-view+json": {
       "model_id": "ca166447970a475685a3f6de719d8ba0",
       "version_major": 2,
       "version_minor": 0
      },
      "text/plain": [
       "Map:   0%|          | 0/819 [00:00<?, ? examples/s]"
      ]
     },
     "metadata": {},
     "output_type": "display_data"
    },
    {
     "data": {
      "application/vnd.jupyter.widget-view+json": {
       "model_id": "a23bb0b7ce014ac5aed7ec9ad82fb4ca",
       "version_major": 2,
       "version_minor": 0
      },
      "text/plain": [
       "Map:   0%|          | 0/818 [00:00<?, ? examples/s]"
      ]
     },
     "metadata": {},
     "output_type": "display_data"
    }
   ],
   "source": [
    "samsum_pt = samsum.map(tokenize, batched=True, batch_size=None)"
   ]
  },
  {
   "cell_type": "code",
   "execution_count": 38,
   "metadata": {},
   "outputs": [
    {
     "data": {
      "text/plain": [
       "DatasetDict({\n",
       "    train: Dataset({\n",
       "        features: ['id', 'dialogue', 'summary', 'input_ids', 'attention_mask', 'labels'],\n",
       "        num_rows: 14732\n",
       "    })\n",
       "    test: Dataset({\n",
       "        features: ['id', 'dialogue', 'summary', 'input_ids', 'attention_mask', 'labels'],\n",
       "        num_rows: 819\n",
       "    })\n",
       "    validation: Dataset({\n",
       "        features: ['id', 'dialogue', 'summary', 'input_ids', 'attention_mask', 'labels'],\n",
       "        num_rows: 818\n",
       "    })\n",
       "})"
      ]
     },
     "execution_count": 38,
     "metadata": {},
     "output_type": "execute_result"
    }
   ],
   "source": [
    "samsum_pt"
   ]
  },
  {
   "cell_type": "code",
   "execution_count": 42,
   "metadata": {},
   "outputs": [
    {
     "data": {
      "application/vnd.jupyter.widget-view+json": {
       "model_id": "eddfbdf95ebd402391be7a627dc239f8",
       "version_major": 2,
       "version_minor": 0
      },
      "text/plain": [
       "  0%|          | 0/14 [00:00<?, ?it/s]"
      ]
     },
     "metadata": {},
     "output_type": "display_data"
    },
    {
     "data": {
      "application/vnd.jupyter.widget-view+json": {
       "model_id": "cdc9468062d5463797a5b20b1778d05f",
       "version_major": 2,
       "version_minor": 0
      },
      "text/plain": [
       "  0%|          | 0/205 [00:00<?, ?it/s]"
      ]
     },
     "metadata": {},
     "output_type": "display_data"
    },
    {
     "name": "stdout",
     "output_type": "stream",
     "text": [
      "{'eval_loss': 14.653148651123047, 'eval_runtime': 56.8446, 'eval_samples_per_second': 14.39, 'eval_steps_per_second': 3.606, 'epoch': 0.95}\n"
     ]
    },
    {
     "data": {
      "application/vnd.jupyter.widget-view+json": {
       "model_id": "efbdfdc03a3249ecb8ce31dcd6f97844",
       "version_major": 2,
       "version_minor": 0
      },
      "text/plain": [
       "  0%|          | 0/205 [00:00<?, ?it/s]"
      ]
     },
     "metadata": {},
     "output_type": "display_data"
    },
    {
     "name": "stdout",
     "output_type": "stream",
     "text": [
      "{'eval_loss': 13.786165237426758, 'eval_runtime': 53.7971, 'eval_samples_per_second': 15.205, 'eval_steps_per_second': 3.811, 'epoch': 1.9}\n",
      "{'train_runtime': 7744.8911, 'train_samples_per_second': 3.804, 'train_steps_per_second': 0.002, 'train_loss': 14.073525565011161, 'epoch': 1.9}\n"
     ]
    },
    {
     "data": {
      "text/plain": [
       "TrainOutput(global_step=14, training_loss=14.073525565011161, metrics={'train_runtime': 7744.8911, 'train_samples_per_second': 3.804, 'train_steps_per_second': 0.002, 'total_flos': 1480300953600000.0, 'train_loss': 14.073525565011161, 'epoch': 1.9006244909041543})"
      ]
     },
     "execution_count": 42,
     "metadata": {},
     "output_type": "execute_result"
    }
   ],
   "source": [
    "from transformers import DataCollatorForSeq2Seq\n",
    "from transformers import TrainingArguments, Trainer\n",
    "\n",
    "data_collator = DataCollatorForSeq2Seq(tokenizer, model=model)\n",
    "\n",
    "args = TrainingArguments(\n",
    "    output_dir= r\"C:\\Temp\\bert_base_train_dir\",\n",
    "    num_train_epochs=2,\n",
    "    per_device_train_batch_size=4,\n",
    "    per_device_eval_batch_size=4,\n",
    "    eval_strategy='epoch',\n",
    "    save_strategy='epoch',\n",
    "    weight_decay=0.01,\n",
    "    learning_rate=2e-5,\n",
    "    gradient_accumulation_steps=500\n",
    ")\n",
    "\n",
    "trainer = Trainer(model=model,\n",
    "                  args=args,\n",
    "                  tokenizer=tokenizer,  #prediction da lazım train ederken değil. onu zaten yapıyoruz önceden\n",
    "                  data_collator=data_collator,\n",
    "                  train_dataset=samsum_pt['train'],\n",
    "                  eval_dataset=samsum_pt['validation']\n",
    "                  )\n",
    "\n",
    "trainer.train()"
   ]
  },
  {
   "cell_type": "markdown",
   "metadata": {},
   "source": [
    "##### DataCollatorForSeq2Seq'un Yaptığı İş:\n",
    "\n",
    "1. Batch Padding: DataCollatorForSeq2Seq tüm batch içindeki en uzun örneğe göre dinamik padding yapar. Senin tokenization kodunda sabit bir max_length=200 verilmiş. Fakat DataCollatorForSeq2Seq her batch’teki en uzun diziyi alır ve ona göre padding yapar. Bu da fazladan padding yapılmamasını sağlar, böylece daha verimli bir eğitim süreci olur.\n",
    "\n",
    "2. Label Padding: Seq2seq modellerinde sadece girişler değil, çıkışlar (yani özetler) de pad edilmelidir. DataCollatorForSeq2Seq bunu otomatik olarak yapar ve maskeler ekler. Senin kodunda bu işlem manuel olarak yapılmamış, yalnızca text_target kısmı belirlenmiş. DataCollator hem giriş hem de çıkışları doğru şekilde pad eder ve maskeler.\n",
    "\n",
    "3. Masking: Padding yapılan token'lar için masklar oluşturur. Bu masklar, modelin sadece gerçek token'lar üzerinden öğrenmesini sağlar ve pad edilmiş token'ları dikkate almaz."
   ]
  },
  {
   "cell_type": "markdown",
   "metadata": {},
   "source": [
    "##### TrainingArguments, model eğitimi sırasında kullanılan birçok önemli parametreyi içerir, örneğin:\n",
    "\n",
    "1. Çıkış Dizini (output_dir): Eğitim sonucunda kaydedilecek modelin, checkpoint'lerin (ara kayıtların), log dosyalarının ve diğer sonuçların nereye kaydedileceğini belirtir.\n",
    "\n",
    "2. Eğitim Süresi (num_train_epochs): Modeli kaç epoch boyunca eğiteceğini belirler. Bir epoch, tüm eğitim verisinin modelden bir kez geçmesi anlamına gelir.\n",
    "\n",
    "3. Batch Boyutu (per_device_train_batch_size, per_device_eval_batch_size): Modeli eğitirken ve değerlendirirken kullanılacak batch boyutunu belirler. Her cihaz (örneğin GPU) başına kaç veri örneğinin işleneceğini ayarlar.\n",
    "\n",
    "4. Değerlendirme Stratejisi (eval_strategy): Değerlendirme işleminin ne zaman yapılacağını belirler. Bu değer genellikle \"steps\", \"epoch\" veya \"no\" olabilir.\n",
    "\n",
    "- \"steps\": Belirtilen adımlardan sonra değerlendirme yapılır.\n",
    "- \"epoch\": Her epoch sonunda değerlendirme yapılır.\n",
    "- \"no\": Değerlendirme yapılmaz.\n",
    "5. Model Kaydetme Stratejisi (save_strategy): Modelin ne zaman kaydedileceğini belirler. \"steps\" veya \"epoch\" olabilir.\n",
    "\n",
    "- \"epoch\": Her epoch sonunda model kaydedilir.\n",
    "- \"steps\": Belirli adımlar sonunda model kaydedilir.\n",
    "\n",
    "6. Learning Rate (learning_rate): Modelin öğrenme hızını ayarlayan parametre. Bu, modelin ağırlıklarının ne kadar hızla güncelleneceğini belirler.\n",
    "\n",
    "7. Weight Decay: Aşırı öğrenmeyi önlemek için ağırlıkların azalmasını sağlar. Bu, düzenlileştirici bir parametredir ve modelin daha genel bir şekilde öğrenmesine yardımcı olur.\n",
    "\n",
    "8. Gradient Accumulation (gradient_accumulation_steps): Bu, toplam batch boyutunu artırmak için gradyanların belirli adımlarda toplanmasını sağlar. Yani, daha küçük batch boyutları kullanarak bellek tasarrufu yapabilir ve aynı zamanda daha büyük bir sanal batch boyutu elde edebilirsin.\n",
    "\n",
    "Diğer Parametreler: Eğitim sırasında GPU/CPU kullanımı, loglama aralıkları, learning rate scheduler gibi diğer teknik ayarları da belirleyebilirsin."
   ]
  },
  {
   "cell_type": "code",
   "execution_count": 45,
   "metadata": {},
   "outputs": [],
   "source": [
    "trainer.save_model(r\"C:\\Temp\\t5_samsum_summarization\")"
   ]
  },
  {
   "cell_type": "code",
   "execution_count": 47,
   "metadata": {},
   "outputs": [],
   "source": [
    "from transformers import pipeline\n",
    "\n",
    "pipe = pipeline('summarization', model= r\"C:\\Temp\\t5_samsum_summarization\")"
   ]
  },
  {
   "cell_type": "code",
   "execution_count": 49,
   "metadata": {},
   "outputs": [
    {
     "name": "stderr",
     "output_type": "stream",
     "text": [
      "Your max_length is set to 200, but your input_length is only 124. Since this is a summarization task, where outputs shorter than the input are typically wanted, you might consider decreasing max_length manually, e.g. summarizer('...', max_length=62)\n"
     ]
    },
    {
     "data": {
      "text/plain": [
       "[{'summary_text': 'if you knew a programming language, all these tasks could be handled by that programming language instead of you . take a look at your daily life and see that you are repeating certain tasks in a monotonous way .'}]"
      ]
     },
     "execution_count": 49,
     "metadata": {},
     "output_type": "execute_result"
    }
   ],
   "source": [
    "custom_dialogue= \"Take a look at your daily life. Whether at your workplace or sitting at your computer at home, you will see that you are repeating certain tasks in a monotonous way. For instance, you might be working in a job that requires you to deal with written documents constantly. Perhaps you open dozens of documents every day and search for certain information within them, correcting, updating, or deleting this information. Consider how time-consuming and tedious these tasks are. If you knew a programming language, all these tasks could be handled by that programming language instead of you.\"\n",
    "output = pipe(custom_dialogue)\n",
    "output"
   ]
  },
  {
   "cell_type": "code",
   "execution_count": null,
   "metadata": {},
   "outputs": [],
   "source": []
  }
 ],
 "metadata": {
  "kernelspec": {
   "display_name": "base",
   "language": "python",
   "name": "python3"
  },
  "language_info": {
   "codemirror_mode": {
    "name": "ipython",
    "version": 3
   },
   "file_extension": ".py",
   "mimetype": "text/x-python",
   "name": "python",
   "nbconvert_exporter": "python",
   "pygments_lexer": "ipython3",
   "version": "3.11.5"
  }
 },
 "nbformat": 4,
 "nbformat_minor": 2
}
